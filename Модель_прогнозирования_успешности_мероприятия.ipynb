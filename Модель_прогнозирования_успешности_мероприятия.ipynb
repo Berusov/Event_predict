{
  "nbformat": 4,
  "nbformat_minor": 0,
  "metadata": {
    "colab": {
      "provenance": [],
      "include_colab_link": true
    },
    "kernelspec": {
      "name": "python3",
      "display_name": "Python 3"
    },
    "language_info": {
      "name": "python"
    }
  },
  "cells": [
    {
      "cell_type": "markdown",
      "metadata": {
        "id": "view-in-github",
        "colab_type": "text"
      },
      "source": [
        "<a href=\"https://colab.research.google.com/github/Berusov/Event_predict/blob/main/%D0%9C%D0%BE%D0%B4%D0%B5%D0%BB%D1%8C_%D0%BF%D1%80%D0%BE%D0%B3%D0%BD%D0%BE%D0%B7%D0%B8%D1%80%D0%BE%D0%B2%D0%B0%D0%BD%D0%B8%D1%8F_%D1%83%D1%81%D0%BF%D0%B5%D1%88%D0%BD%D0%BE%D1%81%D1%82%D0%B8_%D0%BC%D0%B5%D1%80%D0%BE%D0%BF%D1%80%D0%B8%D1%8F%D1%82%D0%B8%D1%8F.ipynb\" target=\"_parent\"><img src=\"https://colab.research.google.com/assets/colab-badge.svg\" alt=\"Open In Colab\"/></a>"
      ]
    },
    {
      "cell_type": "code",
      "source": [
        "import pandas as pd\n",
        "import numpy as np\n",
        "from sklearn.model_selection import train_test_split, GridSearchCV, cross_val_score\n",
        "from sklearn.ensemble import GradientBoostingRegressor\n",
        "from sklearn.metrics import mean_absolute_error, r2_score\n",
        "from sklearn.preprocessing import StandardScaler, PolynomialFeatures\n",
        "from sklearn.pipeline import Pipeline\n",
        "from sklearn.model_selection import KFold\n",
        "\n",
        "# Загрузка данных\n",
        "url = \"https://raw.githubusercontent.com/Berusov/Event_predict/main/events_hall_dataset_with_scores.csv\"\n",
        "data = pd.read_csv(url)\n",
        "\n",
        "\n",
        "# Признаки и целевая переменная\n",
        "features = [\"duration\", \"audience_size\", \"award_duration\", \"num_items\", \"perf_duration\", \"host_speech_duration\"]\n",
        "target = \"success_score\"\n",
        "\n",
        "X = data[features]\n",
        "y = data[target]\n",
        "\n",
        "# Разделение данных на обучающую и тестовую выборки\n",
        "X_train, X_test, y_train, y_test = train_test_split(X, y, test_size=0.2, random_state=42)\n",
        "\n",
        "# Конвейер с масштабированием и моделью\n",
        "pipeline = Pipeline([\n",
        "    ('scaler', StandardScaler()),  # Стандартизация данных\n",
        "    ('poly', PolynomialFeatures(degree=2, include_bias=False)),  # Добавление полиномиальных признаков\n",
        "    ('model', GradientBoostingRegressor(random_state=42))  # Применение Gradient Boosting\n",
        "])\n",
        "\n",
        "# Кросс-валидация с 5 фолдами для оценки модели\n",
        "cv = KFold(n_splits=5, shuffle=True, random_state=42)\n",
        "\n",
        "cv_scores = cross_val_score(pipeline, X_train, y_train, cv=cv, scoring='neg_mean_absolute_error', n_jobs=-1)\n",
        "print(f\"Средняя абсолютная ошибка (MAE) на кросс-валидации: {-cv_scores.mean():.2f}\")\n",
        "\n",
        "# Оптимизация гиперпараметров с помощью GridSearchCV\n",
        "param_grid = {\n",
        "    'model__n_estimators': [100, 200, 300],\n",
        "    'model__learning_rate': [0.01, 0.05, 0.1, 0.2],\n",
        "    'model__max_depth': [3, 5, 7],\n",
        "    'model__min_samples_split': [2, 5, 10]\n",
        "}\n",
        "\n",
        "grid_search = GridSearchCV(pipeline, param_grid, cv=5, scoring='neg_mean_absolute_error', n_jobs=-1)\n",
        "grid_search.fit(X_train, y_train)\n",
        "\n",
        "# Лучшая модель\n",
        "best_model = grid_search.best_estimator_\n",
        "y_pred = best_model.predict(X_test)\n",
        "\n",
        "# Оценка модели\n",
        "mae = mean_absolute_error(y_test, y_pred)\n",
        "r2 = r2_score(y_test, y_pred)\n",
        "print(f\"Лучшие параметры: {grid_search.best_params_}\")\n",
        "print(f\"Средняя абсолютная ошибка модели: {mae:.2f}\")\n",
        "print(f\"Коэффициент детерминации (R²): {r2:.2f}\")\n",
        "\n",
        "# Функция для предсказания успешности нового мероприятия\n",
        "def predict_success(event_features):\n",
        "    event_df = pd.DataFrame([event_features], columns=features)\n",
        "    predicted_score = best_model.predict(event_df)[0]\n",
        "    return predicted_score\n"
      ],
      "metadata": {
        "colab": {
          "base_uri": "https://localhost:8080/"
        },
        "id": "HX3zqs_p_gdP",
        "outputId": "bb96e8ad-d798-4fa4-d7d2-96f8a7209cec"
      },
      "execution_count": 3,
      "outputs": [
        {
          "output_type": "stream",
          "name": "stdout",
          "text": [
            "Средняя абсолютная ошибка (MAE) на кросс-валидации: 0.35\n",
            "Лучшие параметры: {'model__learning_rate': 0.05, 'model__max_depth': 5, 'model__min_samples_split': 10, 'model__n_estimators': 300}\n",
            "Средняя абсолютная ошибка модели: 0.20\n",
            "Коэффициент детерминации (R²): 0.97\n"
          ]
        }
      ]
    },
    {
      "cell_type": "code",
      "source": [
        "# Пример предсказания\n",
        "test_event = {\n",
        "    \"duration\": 70,  # Продолжительность мероприятия (мин)\n",
        "    \"audience_size\": 1331,  # Размер аудитории (чел)\n",
        "    \"award_duration\": 20,  # Длительность награждения (мин)\n",
        "    \"num_items\": 8,  # Количество номеров/активностей\n",
        "    \"perf_duration\": 40,  # Длительность выступлений (мин)\n",
        "    \"host_speech_duration\": 10  # Длительность речи ведущих (мин)\n",
        "}\n",
        "\n",
        "test_score = predict_success(test_event)\n",
        "print(f\"Прогнозируемая успешность мероприятия: {test_score:.2f}\")"
      ],
      "metadata": {
        "id": "-qAtJitVzL_k",
        "colab": {
          "base_uri": "https://localhost:8080/"
        },
        "outputId": "382c341b-49a2-4354-f629-a0ba6b9130b1"
      },
      "execution_count": 4,
      "outputs": [
        {
          "output_type": "stream",
          "name": "stdout",
          "text": [
            "Прогнозируемая успешность мероприятия: 9.28\n"
          ]
        }
      ]
    }
  ]
}